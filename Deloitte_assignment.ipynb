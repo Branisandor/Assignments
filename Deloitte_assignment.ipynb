{
  "nbformat": 4,
  "nbformat_minor": 0,
  "metadata": {
    "colab": {
      "name": "Deloitte_assignment.ipynb",
      "provenance": [],
      "collapsed_sections": []
    },
    "kernelspec": {
      "name": "python3",
      "display_name": "Python 3"
    },
    "language_info": {
      "name": "python"
    }
  },
  "cells": [
    {
      "cell_type": "code",
      "source": [
        "# Unzip Input file\n",
        "!unzip /content/input.zip"
      ],
      "metadata": {
        "colab": {
          "base_uri": "https://localhost:8080/"
        },
        "id": "VcemUf4W4xO6",
        "outputId": "99431758-779a-49cb-eb4f-392deda7e044"
      },
      "execution_count": 1,
      "outputs": [
        {
          "output_type": "stream",
          "name": "stdout",
          "text": [
            "Archive:  /content/input.zip\n",
            "   creating: input/\n",
            "  inflating: __MACOSX/._input        \n",
            "  inflating: input/05EINE.txt        \n",
            "  inflating: __MACOSX/input/._05EINE.txt  \n",
            "  inflating: input/02BSAK.txt        \n",
            "  inflating: __MACOSX/input/._02BSAK.txt  \n",
            "  inflating: input/12RBKP.txt        \n",
            "  inflating: __MACOSX/input/._12RBKP.txt  \n",
            "  inflating: input/07EKKO.txt        \n",
            "  inflating: __MACOSX/input/._07EKKO.txt  \n",
            "  inflating: input/04EINA.txt        \n",
            "  inflating: __MACOSX/input/._04EINA.txt  \n",
            "  inflating: input/14REGUP.txt       \n",
            "  inflating: __MACOSX/input/._14REGUP.txt  \n",
            "  inflating: input/09LFA1.txt        \n",
            "  inflating: __MACOSX/input/._09LFA1.txt  \n",
            "  inflating: input/06EKBE.txt        \n",
            "  inflating: __MACOSX/input/._06EKBE.txt  \n",
            "  inflating: input/03BSEG.txt        \n",
            "  inflating: __MACOSX/input/._03BSEG.txt  \n",
            "  inflating: input/01BKPF.txt        \n",
            "  inflating: __MACOSX/input/._01BKPF.txt  \n",
            "  inflating: input/08EKPO.txt        \n",
            "  inflating: __MACOSX/input/._08EKPO.txt  \n",
            "  inflating: input/15RSEG.txt        \n",
            "  inflating: __MACOSX/input/._15RSEG.txt  \n",
            "  inflating: input/11MSEG.txt        \n",
            "  inflating: __MACOSX/input/._11MSEG.txt  \n",
            "  inflating: input/13REGUH.txt       \n",
            "  inflating: __MACOSX/input/._13REGUH.txt  \n",
            "  inflating: input/10MKPF.txt        \n",
            "  inflating: __MACOSX/input/._10MKPF.txt  \n"
          ]
        }
      ]
    },
    {
      "cell_type": "code",
      "source": [
        "import glob,re\n",
        "\n",
        "# Create Output files\n",
        "output1 = open('/content/solution_output_1.txt', 'a')\n",
        "output2 = open('/content/solution_output_2.txt', 'a')\n",
        "output3 = open('/content/solution_output_3.txt', 'a')\n",
        "\n",
        "# Getting and sorting the Input file names\n",
        "input = glob.glob('/content/input/*.txt')\n",
        "input.sort()\n",
        "\n",
        "for i in input:\n",
        "  f = open(i,'r',encoding=\"ISO-8859-1\")\n",
        "  input_file =f.read()\n",
        "  file_name = re.findall(r'\\d+\\w+',i)[0]\n",
        "\n",
        "  # OUTPUT 1\n",
        "  for j in re.findall(r'\\w+\\s{2,}(?:\\w+|\\w.\\w+)\\s+\\d.*',input_file):\n",
        "    file_content = re.sub(r' X ','',j)\n",
        "    file_content = re.sub(r'\\s+','|',file_content, count=3)\n",
        "    final_output1 = './input'+'\\\\' +file_name + '|' + file_content + '\\n'\n",
        "  \n",
        "    output1.write(final_output1)\n",
        "\n",
        "  # OUTPUT 2\n",
        "  # Exception handling (to avoid Index Error in 05EINE.txt and 11MSEG.txt files)\n",
        "  try:\n",
        "    fp = './input'+'\\\\' + file_name+ '|' \n",
        "    final_output21 = fp + re.findall(r'.*Krátký popis.*',input_file)[0] + '\\n'\n",
        "    final_output22 = fp + re.findall(r'.*Poèet polí.*',input_file)[0] + '\\n'\n",
        "    output2.write(final_output21)\n",
        "    output2.write(final_output22)\n",
        "  except IndexError: \n",
        "    pass\n",
        "\n",
        "  # OUTPUT 3\n",
        "  final_output3 = re.sub(r'.*\\w+\\s{2,}(?:\\w+|\\w.\\w+)\\s+\\d.*\\n', '', input_file)\n",
        "  output3.write(final_output3)\n",
        "\n",
        "output1.close()\n",
        "output2.close()\n",
        "output3.close()"
      ],
      "metadata": {
        "id": "qxhf2eh5TPmm"
      },
      "execution_count": 2,
      "outputs": []
    },
    {
      "cell_type": "code",
      "source": [
        "# Line count comparison\n",
        "def line_count(output):\n",
        "  o = open('/content/'+str(output), 'r',encoding=\"ISO-8859-1\")\n",
        "  print('Original',output,':',len(o.readlines()))\n",
        "\n",
        "  s = open('/content/solution_'+str(output)+'.txt', 'r',encoding=\"ISO-8859-1\")\n",
        "  print('Solution',output,':',len(s.readlines()))\n"
      ],
      "metadata": {
        "id": "5cyPbcSV-nu0"
      },
      "execution_count": 3,
      "outputs": []
    },
    {
      "cell_type": "code",
      "source": [
        "line_count('output_1')\n",
        "line_count('output_2')\n",
        "line_count('output_3')"
      ],
      "metadata": {
        "colab": {
          "base_uri": "https://localhost:8080/"
        },
        "id": "3mudNGSa_acH",
        "outputId": "b753a397-a907-4653-c096-6069d4150087"
      },
      "execution_count": 4,
      "outputs": [
        {
          "output_type": "stream",
          "name": "stdout",
          "text": [
            "Original output_1 : 1636\n",
            "Solution output_1 : 1636\n",
            "Original output_2 : 26\n",
            "Solution output_2 : 26\n",
            "Original output_3 : 2236\n",
            "Solution output_3 : 2236\n"
          ]
        }
      ]
    }
  ]
}